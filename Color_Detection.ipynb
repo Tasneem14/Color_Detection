{
 "cells": [
  {
   "cell_type": "code",
   "execution_count": 2,
   "id": "79dcf8c1",
   "metadata": {},
   "outputs": [],
   "source": [
    "# importing basic libraries\n",
    "\n",
    "import cv2\n",
    "import numpy as np\n",
    "import pandas as pd\n"
   ]
  },
  {
   "cell_type": "markdown",
   "id": "b9b49c80",
   "metadata": {},
   "source": [
    "reading the image"
   ]
  },
  {
   "cell_type": "code",
   "execution_count": 3,
   "id": "885f9412",
   "metadata": {},
   "outputs": [],
   "source": [
    "img_path = \"C:\\\\Users\\\\PC\\\\Downloads\\\\archive\\\\colorpic.jpg\"\n",
    "img = cv2.imread(img_path)\n"
   ]
  },
  {
   "cell_type": "markdown",
   "id": "0d08c1ef",
   "metadata": {},
   "source": [
    "Reading csv file with pandas and giving names to each column"
   ]
  },
  {
   "cell_type": "code",
   "execution_count": 4,
   "id": "bdc913f9",
   "metadata": {},
   "outputs": [],
   "source": [
    "index = ['color', 'color_name', 'hex', 'R', 'G', 'B']\n",
    "dp = pd.read_csv('C:\\\\Users\\\\PC\\\\Downloads\\\\archive\\\\colors.csv', names=index)\n"
   ]
  },
  {
   "cell_type": "code",
   "execution_count": 5,
   "id": "5fd9f1c7",
   "metadata": {},
   "outputs": [
    {
     "data": {
      "text/html": [
       "<div>\n",
       "<style scoped>\n",
       "    .dataframe tbody tr th:only-of-type {\n",
       "        vertical-align: middle;\n",
       "    }\n",
       "\n",
       "    .dataframe tbody tr th {\n",
       "        vertical-align: top;\n",
       "    }\n",
       "\n",
       "    .dataframe thead th {\n",
       "        text-align: right;\n",
       "    }\n",
       "</style>\n",
       "<table border=\"1\" class=\"dataframe\">\n",
       "  <thead>\n",
       "    <tr style=\"text-align: right;\">\n",
       "      <th></th>\n",
       "      <th>color</th>\n",
       "      <th>color_name</th>\n",
       "      <th>hex</th>\n",
       "      <th>R</th>\n",
       "      <th>G</th>\n",
       "      <th>B</th>\n",
       "    </tr>\n",
       "  </thead>\n",
       "  <tbody>\n",
       "    <tr>\n",
       "      <th>0</th>\n",
       "      <td>air_force_blue_raf</td>\n",
       "      <td>Air Force Blue (Raf)</td>\n",
       "      <td>#5d8aa8</td>\n",
       "      <td>93</td>\n",
       "      <td>138</td>\n",
       "      <td>168</td>\n",
       "    </tr>\n",
       "    <tr>\n",
       "      <th>1</th>\n",
       "      <td>air_force_blue_usaf</td>\n",
       "      <td>Air Force Blue (Usaf)</td>\n",
       "      <td>#00308f</td>\n",
       "      <td>0</td>\n",
       "      <td>48</td>\n",
       "      <td>143</td>\n",
       "    </tr>\n",
       "    <tr>\n",
       "      <th>2</th>\n",
       "      <td>air_superiority_blue</td>\n",
       "      <td>Air Superiority Blue</td>\n",
       "      <td>#72a0c1</td>\n",
       "      <td>114</td>\n",
       "      <td>160</td>\n",
       "      <td>193</td>\n",
       "    </tr>\n",
       "    <tr>\n",
       "      <th>3</th>\n",
       "      <td>alabama_crimson</td>\n",
       "      <td>Alabama Crimson</td>\n",
       "      <td>#a32638</td>\n",
       "      <td>163</td>\n",
       "      <td>38</td>\n",
       "      <td>56</td>\n",
       "    </tr>\n",
       "    <tr>\n",
       "      <th>4</th>\n",
       "      <td>alice_blue</td>\n",
       "      <td>Alice Blue</td>\n",
       "      <td>#f0f8ff</td>\n",
       "      <td>240</td>\n",
       "      <td>248</td>\n",
       "      <td>255</td>\n",
       "    </tr>\n",
       "  </tbody>\n",
       "</table>\n",
       "</div>"
      ],
      "text/plain": [
       "                  color             color_name      hex    R    G    B\n",
       "0    air_force_blue_raf   Air Force Blue (Raf)  #5d8aa8   93  138  168\n",
       "1   air_force_blue_usaf  Air Force Blue (Usaf)  #00308f    0   48  143\n",
       "2  air_superiority_blue   Air Superiority Blue  #72a0c1  114  160  193\n",
       "3       alabama_crimson        Alabama Crimson  #a32638  163   38   56\n",
       "4            alice_blue             Alice Blue  #f0f8ff  240  248  255"
      ]
     },
     "execution_count": 5,
     "metadata": {},
     "output_type": "execute_result"
    }
   ],
   "source": [
    "dp.head()"
   ]
  },
  {
   "cell_type": "code",
   "execution_count": 6,
   "id": "2fa08630",
   "metadata": {},
   "outputs": [
    {
     "data": {
      "text/plain": [
       "(865, 6)"
      ]
     },
     "execution_count": 6,
     "metadata": {},
     "output_type": "execute_result"
    }
   ],
   "source": [
    "dp.shape #6 coulmns and 865 rows"
   ]
  },
  {
   "cell_type": "markdown",
   "id": "2006fea4",
   "metadata": {},
   "source": [
    "declairing global variables\n"
   ]
  },
  {
   "cell_type": "code",
   "execution_count": 7,
   "id": "e5ea18a7",
   "metadata": {},
   "outputs": [],
   "source": [
    "clicked = False\n",
    "r = g = b = xpos = ypos = 0"
   ]
  },
  {
   "cell_type": "markdown",
   "id": "eb740553",
   "metadata": {},
   "source": [
    "The function get_color_name(R, G, B) is designed to calculate the minimum distance between a given RGB color value from the image and a list of colors stored in our DataFrame. It aims to find the color in the DataFrame that best matches the given RGB values"
   ]
  },
  {
   "cell_type": "code",
   "execution_count": 8,
   "id": "ab295b9d",
   "metadata": {},
   "outputs": [],
   "source": [
    "def get_color_name(R, G, B):\n",
    "    minimum = 1000\n",
    "    for i in range(len(dp)):\n",
    "        d = abs(R - int(dp.loc[i, 'R'])) + abs(G - int(dp.loc[i, 'G'])) + abs(B - int(dp.loc[i, 'B']))\n",
    "        if d <= minimum:\n",
    "            minimum = d\n",
    "            colorname = dp.loc[i, 'color_name']\n",
    "    return colorname\n"
   ]
  },
  {
   "cell_type": "markdown",
   "id": "672fddb9",
   "metadata": {},
   "source": [
    "The function draw_function is designed to handle mouse events, specifically detecting a double-click of the left mouse button (EVENT_LBUTTONDBLCLK). It is typically used with OpenCV to capture the position and color information of a pixel when a double-click event occurs."
   ]
  },
  {
   "cell_type": "code",
   "execution_count": 9,
   "id": "572d93b0",
   "metadata": {},
   "outputs": [],
   "source": [
    "def draw_function(event, x,y,flags,params):\n",
    "    if event == cv2.EVENT_LBUTTONDBLCLK:\n",
    "        global b,g,r,xpos,ypos, clicked\n",
    "        clicked = True\n",
    "        xpos = x\n",
    "        ypos = y\n",
    "        b,g,r = img[y,x] #convert coordinates to rgb integers\n",
    "        b = int(b)\n",
    "        g = int(g)\n",
    "        r = int(r)"
   ]
  },
  {
   "cell_type": "markdown",
   "id": "99d1fa53",
   "metadata": {},
   "source": [
    "Creating a window in for the image"
   ]
  },
  {
   "cell_type": "code",
   "execution_count": 10,
   "id": "f0214da5",
   "metadata": {},
   "outputs": [],
   "source": [
    "cv2.namedWindow('color detection')\n",
    "cv2.setMouseCallback('color detection',draw_function)"
   ]
  },
  {
   "cell_type": "markdown",
   "id": "949bece6",
   "metadata": {},
   "source": [
    "we want to appear on the image the color name when we double click on any color"
   ]
  },
  {
   "cell_type": "code",
   "execution_count": 11,
   "id": "ef09ef2f",
   "metadata": {},
   "outputs": [],
   "source": [
    "while True:\n",
    "    cv2.imshow(\"color detection\", img)\n",
    "    if clicked == True:\n",
    "        # cv2.rectangle(image, startpoint, endpoint, color, thickness)-1 fills entire rectangle \n",
    "        cv2.rectangle(img, (20,20), (600,60), (b,g,r), -1)\n",
    "        # Creating text string to display (Color name and RGB values)\n",
    "        text = get_color_name(r,g,b) + ' R=' + str(r) + ' G=' + str(g) + ' B=' + str(b)\n",
    "        # cv2.putText(img,text,start,font(0-7),fontScale,color,thickness,lineType)\n",
    "        cv2.putText(img, text, (50,50), 2, 0.8, (255,255,255), 2, cv2.LINE_AA)\n",
    "        if r+g+b >= 600:\n",
    "            cv2.putText(img, text, (50,50), 2, 0.8, (0,0,0), 2, cv2.LINE_AA)\n",
    "        #clicked = False\n",
    "    # when user hits esc\n",
    "    if cv2.waitKey(20) & 0xFF == 27:\n",
    "        break\n",
    "\n",
    "cv2.destroyAllWindows()\n",
    "\n"
   ]
  }
 ],
 "metadata": {
  "kernelspec": {
   "display_name": "Python 3 (ipykernel)",
   "language": "python",
   "name": "python3"
  },
  "language_info": {
   "codemirror_mode": {
    "name": "ipython",
    "version": 3
   },
   "file_extension": ".py",
   "mimetype": "text/x-python",
   "name": "python",
   "nbconvert_exporter": "python",
   "pygments_lexer": "ipython3",
   "version": "3.9.12"
  }
 },
 "nbformat": 4,
 "nbformat_minor": 5
}
